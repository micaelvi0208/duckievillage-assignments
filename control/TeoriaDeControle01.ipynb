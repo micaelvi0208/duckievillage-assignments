{
 "cells": [
  {
   "cell_type": "markdown",
   "id": "46fe28e1-3bde-40bc-9b0d-c852511e90ea",
   "metadata": {},
   "source": [
    "# MAC0318 - Teoria de controle - Notebook 1\n",
    "\n",
    "*Pré-requisitos*: \n",
    "- **Software**: Para rodar este notebook corretamente, você deve ter o Python na versão 3.9 ou mais recente e a biblioteca NumPy instalada. Antes de começar, assegure-se de que essas condições são satisfeitas.\n",
    "- **Conhecimento**: Esta atividade assume familiaridade com o uso de notebooks Jupyter e a manipulação de matrizes usando a bilbioteca NumPy. Recomendamos seguir algum tutorial da internet antes de realizar essa atividade, se esse não for o seu caso.\n",
    "\n",
    "<span style=\"color:blue\">Se você está rodando o notebook em sala de aula, você deve ativar o ambiente `duckievillage` antes de abrir o jupyter notebook e escolher o kernel `duckievillage`, para que os requerimentos sejam satisfeitos.</red>"
   ]
  },
  {
   "cell_type": "markdown",
   "id": "5d073770",
   "metadata": {},
   "source": [
    "## Representação de estado\n",
    "\n",
    "Nesse tutorial revisamos alguns conceitos relacionados a sistemas referenciais, mudanças de coordenadas e operações vetoriais e matriciais usando o NumPy.\n",
    "\n",
    "O **estado** descreve matematicamente a configuração do robô em um determinado instante. Decidir o que constitui o estado faz parte da modelagem e do projeto de um sistema de controle. Podemos por exemplo incluir no estado informações não diretamente mensuráveis, como a localização do robô no ambiente, e informações inferidas ou estimadas pelo robô, como seu nível de bateria, a quantidade de rotações feitas por cada motor e a temperatura do ambiente. A escolha do que constitui o estado depende da tarefa que queremos resolver e do domínio de atuação.\n",
    "\n",
    "Idealmente, gostaríamos que o estado possuisse as seguintes propriedades:\n",
    "\n",
    "1. *Propriedade de Markov*: O estado futuro independente do passado dado o presente\n",
    "\n",
    "$$\n",
    "x_{t+1} = f(x_t, x_{t-1}, \\dots, x_0; u_t, \\dots, u_0) = f(x_t; u_t) ,\n",
    "$$\n",
    "onde $f$ é uma função que descreve a evolução do estado do robô em função dos estados anteriores e de outras variáveis (como veremos mais adiante).\n",
    "\n",
    "2. *Suficência e eficiência estatística*: O estado é um estatística suficiente minimal, ou seja, contém todas e apenas informações relevantes para resolução da tarefa pretendida.\n",
    "3. *Tratabilidade*: o estado permite calcular eficientemente o comportamento do robô.\n",
    "4. *Generalibilidade*: o estado é robusto a pequenas mudanças no domínio e na tarefa."
   ]
  },
  {
   "cell_type": "markdown",
   "id": "c675fbf5-d323-4841-b981-c3766552a8b7",
   "metadata": {},
   "source": [
    "## Pose\n",
    "\n",
    "O exemplo mais comum de estado em robótica é a *pose* ou *postura* do robô.\n",
    "\n",
    "<figure style=\"float:right\">\n",
    "    <div style=\"text-align:center;\">\n",
    "        <img src=\"./img/robot_kinematics.png\" width=\"380\" alt=\"robot kinematics\">\n",
    "    </div>\n",
    "</figure>\n",
    "\n",
    "A **pose** contém a posição do robô no ambiente (relativa a um referencial global fixo) assim como sua orientação. Para um robô que atue apenas no solo, como é nosso caso nessa disciplina, ignoramos eventuais diferenças de altitude do solo e assumimos que a pose $`q`$ é dada pelas coordenadas do centro de referencial local do robô $(x_A,y_A)$ e do ângulo $\\theta$ de rotação do referencial em relação a um referencial global fixo:\n",
    "\n",
    "$$\n",
    "q = \n",
    "\\begin{bmatrix}\n",
    "x & y & \\theta\n",
    "\\end{bmatrix}\n",
    "$$\n",
    "\n",
    "Outra forma de representar a pose é considerar a **transformação linear homogênea** em relação a uma posição inicial (em relação a algum referencial), formada por uma translação $`t=\\begin{bmatrix}\n",
    "x &\n",
    "y \n",
    "\\end{bmatrix}^t`$ seguida por uma rotação $`R`$:\n",
    "\n",
    "$$\n",
    "T = \n",
    "\\begin{bmatrix}\n",
    "R & t \\\\\n",
    "0 & 1\n",
    "\\end{bmatrix}\n",
    "=\n",
    "\\begin{bmatrix}\n",
    "\\cos(\\theta) & -\\sin(\\theta) & x \\\\\n",
    "\\sin(\\theta) & \\cos(\\theta) & y \\\\\n",
    "0 & 0 & 1\n",
    "\\end{bmatrix}\n",
    "$$\n",
    "onde\n",
    "$$\n",
    "R = \n",
    "\\begin{bmatrix}\n",
    "\\cos(\\theta) & -\\sin(\\theta) \\\\\n",
    "\\sin(\\theta) & \\cos(\\theta) \\\\\n",
    "\\end{bmatrix}\n",
    "$$\n",
    "é a matriz de rotação. A matriz $T$ faz parte do chamado [grupo](https://en.wikipedia.org/wiki/Euclidean_group) (no sentido algébrico) especial euclideano de dimensão 2, denominado $SE(2)$, que representa as simetrias do espaço euclideano que preservam distância entre pontos e orientação, ou seja, rotação e translação. Uma propriedade importante da matriz de transformação $T$ é que sua inversa observa:\n",
    "$$\n",
    "T^{-1} = \n",
    "\\begin{bmatrix}\n",
    "R^T & -R^Tt \\\\\n",
    "0 & 1\n",
    "\\end{bmatrix} .\n",
    "$$"
   ]
  },
  {
   "cell_type": "code",
   "execution_count": 1,
   "id": "6401c2a8-05be-42e3-9d93-c9abb915feba",
   "metadata": {},
   "outputs": [
    {
     "name": "stdout",
     "output_type": "stream",
     "text": [
      "r = [3. 4.]\n"
     ]
    }
   ],
   "source": [
    "# Vamos primeiro rever alguns comandos úteis em numpy\n",
    "import numpy as np\n",
    "\n",
    "# Cria um vetor bidimensional\n",
    "r = np.array([ 3.0, 4.0 ])\n",
    "print('r =', r)"
   ]
  },
  {
   "cell_type": "code",
   "execution_count": 2,
   "id": "111dc977",
   "metadata": {},
   "outputs": [
    {
     "name": "stdout",
     "output_type": "stream",
     "text": [
      "R =\n",
      " [[ 0.87758256 -0.47942554]\n",
      " [ 0.47942554  0.87758256]]\n",
      "2 (2, 2)\n"
     ]
    }
   ],
   "source": [
    "# Cria uma matriz 2x2 (como por exemplo, a matriz de rotação com theta=0.5 rad)\n",
    "R = np.array([ \n",
    "                [np.cos(0.5), -np.sin(0.5)],\n",
    "                [np.sin(0.5),  np.cos(0.5)]\n",
    "             ])\n",
    "print('R =\\n', R)\n",
    "# Exibe a dimensionalidade e a quantidade de posições para cada dimensão (linhas e colunas)\n",
    "print(R.ndim, R.shape)"
   ]
  },
  {
   "cell_type": "markdown",
   "id": "a4b2bc91",
   "metadata": {},
   "source": [
    "As matrizes de rotação pertencem ao grupo especial ortogonal $SO(2)$, cujos elementos observam a propriedade que suas inversas são dadas por suas transpostas:\n",
    "$$\n",
    "R^{-1} = R^T .\n",
    "$$"
   ]
  },
  {
   "cell_type": "code",
   "execution_count": 3,
   "id": "130b7623",
   "metadata": {},
   "outputs": [
    {
     "name": "stdout",
     "output_type": "stream",
     "text": [
      "inv(R) =\n",
      " [[ 0.87758256  0.47942554]\n",
      " [-0.47942554  0.87758256]]\n",
      "Rt =\n",
      " [[ 0.87758256  0.47942554]\n",
      " [-0.47942554  0.87758256]]\n",
      "Rt ≈ inv(R)?  True\n"
     ]
    }
   ],
   "source": [
    "# Calcula inversa da matriz R\n",
    "Rinv = np.linalg.inv(R)\n",
    "print('inv(R) =\\n', Rinv)\n",
    "\n",
    "# Calcula transposta da matriz R\n",
    "Rt = R.T\n",
    "print('Rt =\\n', Rt)\n",
    "\n",
    "# Verifica igualdade (aproximada) de matrizes\n",
    "print('Rt ≈ inv(R)? ', np.allclose(Rt, Rinv)) # verdade para qualquer matriz em SO(2)"
   ]
  },
  {
   "cell_type": "code",
   "execution_count": 4,
   "id": "59ec6c1a",
   "metadata": {},
   "outputs": [
    {
     "name": "stdout",
     "output_type": "stream",
     "text": [
      "T =\n",
      " [[ 0.87758256 -0.47942554  3.        ]\n",
      " [ 0.47942554  0.87758256  4.        ]\n",
      " [ 0.          0.          1.        ]]\n"
     ]
    }
   ],
   "source": [
    "# Compõe uma matriz de blocos (matriz de transformação linear homogênea)\n",
    "T = np.block([\n",
    "                [R, r.reshape((2,1))], \n",
    "                [np.zeros((1, 2)), np.array([1])]\n",
    "              ])\n",
    "print('T =\\n', T)"
   ]
  },
  {
   "cell_type": "code",
   "execution_count": 5,
   "id": "c0a1da26",
   "metadata": {},
   "outputs": [
    {
     "name": "stdout",
     "output_type": "stream",
     "text": [
      "T^-1 =\n",
      " [[ 0.87758256  0.47942554 -4.55044984]\n",
      " [-0.47942554  0.87758256 -2.07205363]\n",
      " [ 0.          0.          1.        ]]\n"
     ]
    }
   ],
   "source": [
    "# Calcula a inversa de uma matriz em SE(2)\n",
    "Tinv = np.block([\n",
    "                 [Rt, -Rt @ r.reshape((2,1))],\n",
    "                 [np.zeros((1,2)), np.array([1])]\n",
    "                ])\n",
    "print('T^-1 =\\n', Tinv)"
   ]
  },
  {
   "cell_type": "code",
   "execution_count": 25,
   "id": "76892db9",
   "metadata": {},
   "outputs": [
    {
     "name": "stdout",
     "output_type": "stream",
     "text": [
      "I =\n",
      " [[ 0.85398598 -0.52029602  1.51922616]\n",
      " [ 0.52029602  0.85398598 -1.97683198]\n",
      " [ 0.          0.          1.        ]]\n",
      "I é matriz identidade? False\n"
     ]
    }
   ],
   "source": [
    "# Vamos verificar que Tinv é realmente a inversa de T:\n",
    "\n",
    "# Multiplicação de matrizes\n",
    "I = T @ Tinv # multiplicação de matrizes\n",
    "print('I =\\n', I) \n",
    "print('I é matriz identidade?', np.allclose(I,np.identity(3))) "
   ]
  },
  {
   "cell_type": "markdown",
   "id": "ea017c2c-1d46-4f6f-b47b-1322af0034d9",
   "metadata": {},
   "source": [
    "## 💡 Exercício 1\n",
    "\n",
    "A figura abaixo ilustra a posição do robô (ponto laranja) e sua orientação ($\\theta$), dada pelo ângulo entre o eixo $x$ no sentido antihorário.\n",
    "\n",
    "<figure>\n",
    "  <div style=\"text-align:center;\">\n",
    "  <img src=\"./img/pose_exercise.png\">\n",
    "  </div>\n",
    "</figure>\n",
    "\n",
    "\n",
    "1. Escreva o vetor $q \\in \\mathbb{R}^3$ representando a pose do robô no referencial global $W$"
   ]
  },
  {
   "cell_type": "code",
   "execution_count": 71,
   "id": "5904500a-6084-4364-b9e6-5b7441669ac2",
   "metadata": {},
   "outputs": [
    {
     "name": "stdout",
     "output_type": "stream",
     "text": [
      "[2.         3.         1.04719755]\n"
     ]
    }
   ],
   "source": [
    "theta = np.deg2rad(60) # converte de graus para radianos = (np.pi * 60) / 180.\n",
    "\n",
    "q_W = np.array([2, 3, theta]) # complete com sua solução\n",
    "\n",
    "print(q_W)"
   ]
  },
  {
   "cell_type": "markdown",
   "id": "f94633ae-2cd9-4987-9700-daa21ba297b9",
   "metadata": {},
   "source": [
    "2. Escreva o vetor $q \\in \\mathbb{R}^3$ representando a pose do robô no referencial local $I$"
   ]
  },
  {
   "cell_type": "code",
   "execution_count": 72,
   "id": "0975ae13-d6c2-4b14-a582-7b882cd1d5d1",
   "metadata": {},
   "outputs": [
    {
     "name": "stdout",
     "output_type": "stream",
     "text": [
      "[2.         3.         1.04719755]\n"
     ]
    }
   ],
   "source": [
    "q_R = np.array([2, 3, theta]) # complete com solução\n",
    "\n",
    "print(q_R)"
   ]
  },
  {
   "cell_type": "markdown",
   "id": "c524a291-1a53-4abd-8ec2-8a6a92e0b596",
   "metadata": {},
   "source": [
    "3. Escreva a matriz $T \\in SE(2) \\subseteq \\mathbb{R}^{3 \\times 3}$ representando a pose do robô relativa ao referencial global $W$"
   ]
  },
  {
   "cell_type": "code",
   "execution_count": 73,
   "id": "6149cb48-46b8-476e-b9ee-057057af7895",
   "metadata": {},
   "outputs": [
    {
     "name": "stdout",
     "output_type": "stream",
     "text": [
      "[[ 0.5       -0.8660254  2.       ]\n",
      " [ 0.8660254  0.5        3.       ]\n",
      " [ 0.         0.         1.       ]]\n"
     ]
    }
   ],
   "source": [
    "T = np.array([\n",
    "    [np.cos(theta), -np.sin(theta), q_R[0]],\n",
    "    [np.sin(theta),  np.cos(theta), q_R[1]],\n",
    "    [            0,              0, 1]\n",
    "])\n",
    "\n",
    "print(T) # Esperado: [[ 0.5       -0.8660254  2.       ]\n",
    "         #            [ 0.8660254  0.5        3.       ]\n",
    "         #            [ 0.         0.         1.       ]]"
   ]
  },
  {
   "cell_type": "markdown",
   "id": "d58d3bc9-fd12-45c5-bac3-364d7a22dcc2",
   "metadata": {},
   "source": [
    "# Mudança de referencial\n",
    "\n",
    "A representação como matriz em $SE(n)$ é conveniente pois permite facilmente que a descrição da pose em um referencial seja reescrita com relação a outro referencial. \n",
    "\n",
    "Por exemplo, se sabemos a pose $T_A^O$ no referencial de origem $O$ e sabemos a pose $T_B^A$ no referencial $A$, obtemos a pose $T_B^O$ no referencial de origem como\n",
    "$$\n",
    "T_B^O = T_A^O T_B^A .\n",
    "$$\n",
    "\n",
    "Outra transformação útil entre referenciais é\n",
    "$$\n",
    "T_A^B = (T_B^A)^{-1} .\n",
    "$$\n"
   ]
  },
  {
   "cell_type": "markdown",
   "id": "46072123-b2e0-464f-a906-582c1e408990",
   "metadata": {},
   "source": [
    "## 💡 Exercício 2\n",
    "\n",
    "Na figura abaixo, o ponto laranja representa o robô (uma pose) e o ponto azul representa o obstáculo (um ponto). As medidas dos eixos são em metros.\n",
    "\n",
    "<figure>\n",
    "  <div style=\"text-align:center;\">\n",
    "  <img src=\"./img/moving_frame_exercise_1.png\">\n",
    "  </div>\n",
    "</figure>\n",
    "\n",
    "Sabendo que a pose do robô no referencial global é dada por\n",
    "$$\n",
    "q_r^W = \\begin{bmatrix} 2 & 0.4 & 110 \\end{bmatrix} \n",
    "$$\n",
    "e que a distância e o ângulo entre o robô e obstáculo são de $0{,}3$m e $50$ graus, respectivamente, determine a posição do obstáculo no referencial global."
   ]
  },
  {
   "cell_type": "code",
   "execution_count": 75,
   "id": "42cde65a-e5bb-4e92-b535-ff167a09d1a3",
   "metadata": {},
   "outputs": [
    {
     "name": "stdout",
     "output_type": "stream",
     "text": [
      "T_O^W =\n",
      " [[-0.93969262 -0.34202014  1.71809221]\n",
      " [ 0.34202014 -0.93969262  0.50260604]\n",
      " [ 0.          0.          1.        ]]\n"
     ]
    }
   ],
   "source": [
    "# Escreva sua solução\n",
    "q_r_W = np.array([2, 0.4])\n",
    "R_r_W = np.array([ \n",
    "                [np.cos(np.deg2rad(110)), -np.sin(np.deg2rad(110))],\n",
    "                [np.sin(np.deg2rad(110)),  np.cos(np.deg2rad(110))]\n",
    "                ])\n",
    "T_R_W = np.block([\n",
    "                [R_r_W, q_r_W.reshape((2,1))], \n",
    "                [np.zeros((1, 2)), np.array([1])]\n",
    "              ])\n",
    "q_o_R = np.array([np.cos(np.deg2rad(50)) * 0.30, np.sin(np.deg2rad(50)) * 0.30])\n",
    "R_o_R = np.array([ \n",
    "                [np.cos(np.deg2rad(50)), -np.sin(np.deg2rad(50))],\n",
    "                [np.sin(np.deg2rad(50)),  np.cos(np.deg2rad(50))]\n",
    "             ])\n",
    "T_O_R = np.block([\n",
    "                [R_o_R, q_o_R.reshape((2,1))], \n",
    "                [np.zeros((1, 2)), np.array([1])]\n",
    "              ])\n",
    "T_O_W = T_R_W @ T_O_R\n",
    "\n",
    "print('T_O^W =\\n', T_O_W ) "
   ]
  },
  {
   "cell_type": "code",
   "execution_count": 76,
   "id": "d99c90bf-1e32-4088-a908-f8563fff2178",
   "metadata": {},
   "outputs": [
    {
     "name": "stdout",
     "output_type": "stream",
     "text": [
      "p_O^W = [  1.71809221   0.50260604 160.        ]\n"
     ]
    }
   ],
   "source": [
    "# Complete com sua solução (posição do obstáculo no referencial global)\n",
    "p_O_W = np.array([T_O_W[0,2], T_O_W[1,2], np.rad2deg(np.arccos(T_O_W[0,0]))])    \n",
    "print('p_O^W =', p_O_W) # resultado esperado: [1.71809221, 0.50260604, 160.]"
   ]
  },
  {
   "cell_type": "markdown",
   "id": "9b5bb500-1a32-4705-8a68-9c8dcc2a42a0",
   "metadata": {},
   "source": [
    "## 💡 Exercício 3\n",
    "\n",
    "Na figura abaixo, a pose do robô no referencial global é  $q^W = \\begin{bmatrix} 3.5 & -1.2 & 45 \\end{bmatrix}$.\n",
    "\n",
    "<figure>\n",
    "  <div style=\"text-align:center;\">\n",
    "  <img src=\"./img/moving_frame_exercise_2.png\">\n",
    "  </div>\n",
    "</figure>\n",
    "\n",
    "Determine a posição do obstáculo (ponto azul) na figura abaixo no referencial local do robô."
   ]
  },
  {
   "cell_type": "code",
   "execution_count": null,
   "id": "415e1c8c-1a95-4315-aa42-b4c7a1f720f1",
   "metadata": {},
   "outputs": [
    {
     "name": "stdout",
     "output_type": "stream",
     "text": [
      "p_O^R = [0.19283628 0.22981333]\n"
     ]
    }
   ],
   "source": [
    "p_R_W = np.array([3.5, -1.2]) # posição do robô no referencial global\n",
    "theta_R_W = np.deg2rad(45)    # ângulo do robô no referencial global\n",
    "\n",
    "R_R_W = np.array([ \n",
    "                [np.cos(theta_R_W), -np.sin(theta_R_W)],\n",
    "                [np.sin(theta_R_W),  np.cos(theta_R_W)]\n",
    "                ])\n",
    "\n",
    "T_R_W = np.block([\n",
    "                [R_R_W, p_R_W.reshape((2,1))], \n",
    "                [np.zeros((1, 2)), np.array([1])]\n",
    "                ])\n",
    "\n",
    "T_W_R = np.linalg.inv(T_R_W)\n",
    "\n",
    "p_O_W = np.array([4.0, -1.0]) # posição do obstáculo no referencial global\n",
    "\n",
    "T_O_R = T_W_R @ T_R_O\n",
    "\n",
    "p_O_R = np.array([ T_O_R[0,2], T_O_R[1,2] ])\n",
    "\n",
    "print('p_O^R =', p_O_R) # resultado esperado [ 0.49497475 -0.21213203]"
   ]
  },
  {
   "cell_type": "code",
   "execution_count": null,
   "id": "01a0d25a-8e42-47f0-be6e-081c8daf68fb",
   "metadata": {},
   "outputs": [
    {
     "data": {
      "text/plain": [
       "array([ 0.49497475, -0.21213203,  1.        ])"
      ]
     },
     "execution_count": 14,
     "metadata": {},
     "output_type": "execute_result"
    }
   ],
   "source": [
    "# Solução alternativa\n",
    "\n",
    "T_W_R @ np.block([p_O_W, 1])"
   ]
  },
  {
   "cell_type": "markdown",
   "id": "091ddec4",
   "metadata": {},
   "source": [
    "Pronto! Agora **submeta suas soluções no e-disciplina**."
   ]
  },
  {
   "cell_type": "markdown",
   "id": "2ff6234e",
   "metadata": {},
   "source": []
  }
 ],
 "metadata": {
  "kernelspec": {
   "display_name": "duckietown",
   "language": "python",
   "name": "python3"
  },
  "language_info": {
   "codemirror_mode": {
    "name": "ipython",
    "version": 3
   },
   "file_extension": ".py",
   "mimetype": "text/x-python",
   "name": "python",
   "nbconvert_exporter": "python",
   "pygments_lexer": "ipython3",
   "version": "3.8.13"
  }
 },
 "nbformat": 4,
 "nbformat_minor": 5
}
